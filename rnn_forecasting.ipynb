{
 "cells": [
  {
   "cell_type": "code",
   "execution_count": 1,
   "metadata": {},
   "outputs": [],
   "source": [
    "import pandas as pd\n",
    "import numpy as np\n",
    "import matplotlib.pyplot as plt"
   ]
  },
  {
   "cell_type": "code",
   "execution_count": 2,
   "metadata": {},
   "outputs": [],
   "source": [
    "infy = pd.read_csv(r'C:\\Users\\Shivam Singh Rajput\\Desktop\\kagle\\time series\\INFY.NS.csv',parse_dates=[\"Date\"],index_col=\"Date\")"
   ]
  },
  {
   "cell_type": "code",
   "execution_count": 34,
   "metadata": {},
   "outputs": [
    {
     "data": {
      "text/html": [
       "<div>\n",
       "<style scoped>\n",
       "    .dataframe tbody tr th:only-of-type {\n",
       "        vertical-align: middle;\n",
       "    }\n",
       "\n",
       "    .dataframe tbody tr th {\n",
       "        vertical-align: top;\n",
       "    }\n",
       "\n",
       "    .dataframe thead th {\n",
       "        text-align: right;\n",
       "    }\n",
       "</style>\n",
       "<table border=\"1\" class=\"dataframe\">\n",
       "  <thead>\n",
       "    <tr style=\"text-align: right;\">\n",
       "      <th></th>\n",
       "      <th>Open</th>\n",
       "      <th>High</th>\n",
       "      <th>Low</th>\n",
       "      <th>Close</th>\n",
       "      <th>Adj Close</th>\n",
       "      <th>Volume</th>\n",
       "    </tr>\n",
       "    <tr>\n",
       "      <th>Date</th>\n",
       "      <th></th>\n",
       "      <th></th>\n",
       "      <th></th>\n",
       "      <th></th>\n",
       "      <th></th>\n",
       "      <th></th>\n",
       "    </tr>\n",
       "  </thead>\n",
       "  <tbody>\n",
       "    <tr>\n",
       "      <th>1996-01-01</th>\n",
       "      <td>0.79492</td>\n",
       "      <td>0.79883</td>\n",
       "      <td>0.78418</td>\n",
       "      <td>0.78418</td>\n",
       "      <td>-0.000426</td>\n",
       "      <td>870400</td>\n",
       "    </tr>\n",
       "    <tr>\n",
       "      <th>1996-01-08</th>\n",
       "      <td>0.78418</td>\n",
       "      <td>0.79102</td>\n",
       "      <td>0.77148</td>\n",
       "      <td>0.78662</td>\n",
       "      <td>-0.000427</td>\n",
       "      <td>2764800</td>\n",
       "    </tr>\n",
       "    <tr>\n",
       "      <th>1996-01-15</th>\n",
       "      <td>0.77637</td>\n",
       "      <td>0.78516</td>\n",
       "      <td>0.71289</td>\n",
       "      <td>0.76855</td>\n",
       "      <td>-0.000417</td>\n",
       "      <td>2150400</td>\n",
       "    </tr>\n",
       "    <tr>\n",
       "      <th>1996-01-22</th>\n",
       "      <td>0.77148</td>\n",
       "      <td>0.78125</td>\n",
       "      <td>0.75293</td>\n",
       "      <td>0.76758</td>\n",
       "      <td>-0.000417</td>\n",
       "      <td>1382400</td>\n",
       "    </tr>\n",
       "    <tr>\n",
       "      <th>1996-01-29</th>\n",
       "      <td>0.76563</td>\n",
       "      <td>0.83984</td>\n",
       "      <td>0.76318</td>\n",
       "      <td>0.83975</td>\n",
       "      <td>-0.000456</td>\n",
       "      <td>5171200</td>\n",
       "    </tr>\n",
       "  </tbody>\n",
       "</table>\n",
       "</div>"
      ],
      "text/plain": [
       "               Open     High      Low    Close  Adj Close   Volume\n",
       "Date                                                              \n",
       "1996-01-01  0.79492  0.79883  0.78418  0.78418  -0.000426   870400\n",
       "1996-01-08  0.78418  0.79102  0.77148  0.78662  -0.000427  2764800\n",
       "1996-01-15  0.77637  0.78516  0.71289  0.76855  -0.000417  2150400\n",
       "1996-01-22  0.77148  0.78125  0.75293  0.76758  -0.000417  1382400\n",
       "1996-01-29  0.76563  0.83984  0.76318  0.83975  -0.000456  5171200"
      ]
     },
     "execution_count": 34,
     "metadata": {},
     "output_type": "execute_result"
    }
   ],
   "source": [
    "infy.head()"
   ]
  },
  {
   "cell_type": "code",
   "execution_count": 37,
   "metadata": {},
   "outputs": [
    {
     "data": {
      "text/plain": [
       "(1257, 6)"
      ]
     },
     "execution_count": 37,
     "metadata": {},
     "output_type": "execute_result"
    }
   ],
   "source": [
    "infy.shape"
   ]
  },
  {
   "cell_type": "code",
   "execution_count": 4,
   "metadata": {},
   "outputs": [
    {
     "data": {
      "text/plain": [
       "Index(['Open', 'High', 'Low', 'Close', 'Adj Close', 'Volume'], dtype='object')"
      ]
     },
     "execution_count": 4,
     "metadata": {},
     "output_type": "execute_result"
    }
   ],
   "source": [
    "infy.columns"
   ]
  },
  {
   "cell_type": "code",
   "execution_count": 60,
   "metadata": {},
   "outputs": [],
   "source": [
    "data_set = infy.iloc[:,0:1]"
   ]
  },
  {
   "cell_type": "code",
   "execution_count": 70,
   "metadata": {},
   "outputs": [],
   "source": [
    "training_set = infy.iloc[0:1237,0:1].values"
   ]
  },
  {
   "cell_type": "code",
   "execution_count": 71,
   "metadata": {},
   "outputs": [],
   "source": [
    "test_set = infy.iloc[1237:,0:1].values"
   ]
  },
  {
   "cell_type": "code",
   "execution_count": 72,
   "metadata": {},
   "outputs": [
    {
     "data": {
      "text/plain": [
       "array([[7.94920000e-01],\n",
       "       [7.84180000e-01],\n",
       "       [7.76370000e-01],\n",
       "       ...,\n",
       "       [7.95900024e+02],\n",
       "       [8.14900024e+02],\n",
       "       [8.36799988e+02]])"
      ]
     },
     "execution_count": 72,
     "metadata": {},
     "output_type": "execute_result"
    }
   ],
   "source": [
    "training_set    #converted into array"
   ]
  },
  {
   "cell_type": "code",
   "execution_count": 75,
   "metadata": {},
   "outputs": [
    {
     "data": {
      "text/plain": [
       "(20, 1)"
      ]
     },
     "execution_count": 75,
     "metadata": {},
     "output_type": "execute_result"
    }
   ],
   "source": [
    "test_set.shape"
   ]
  },
  {
   "cell_type": "code",
   "execution_count": 49,
   "metadata": {},
   "outputs": [],
   "source": [
    "#feature scaling\n",
    "from sklearn.preprocessing import MinMaxScaler"
   ]
  },
  {
   "cell_type": "code",
   "execution_count": 50,
   "metadata": {},
   "outputs": [],
   "source": [
    "sc = MinMaxScaler(feature_range= (0,1))\n",
    "training_set_scaled = sc.fit_transform(training_set)"
   ]
  },
  {
   "cell_type": "code",
   "execution_count": 51,
   "metadata": {},
   "outputs": [],
   "source": [
    "# creating a dataset with 60 timesteps and 1 output"
   ]
  },
  {
   "cell_type": "code",
   "execution_count": 52,
   "metadata": {},
   "outputs": [],
   "source": [
    "X_train = []\n",
    "y_train = []\n",
    "for i in range(60,len(training_set_scaled)):\n",
    "    X_train.append(training_set_scaled[i-60:i,0])\n",
    "    y_train.append(training_set_scaled[i,0])\n",
    "\n",
    "X_train, y_train = np.array(X_train), np.array(y_train)"
   ]
  },
  {
   "cell_type": "code",
   "execution_count": 53,
   "metadata": {},
   "outputs": [
    {
     "data": {
      "text/plain": [
       "(881, 60)"
      ]
     },
     "execution_count": 53,
     "metadata": {},
     "output_type": "execute_result"
    }
   ],
   "source": [
    "X_train.shape"
   ]
  },
  {
   "cell_type": "code",
   "execution_count": 54,
   "metadata": {},
   "outputs": [],
   "source": [
    "#reshaping\n",
    "X_train = np.reshape(X_train, (X_train.shape[0], X_train.shape[1], 1))"
   ]
  },
  {
   "cell_type": "code",
   "execution_count": 55,
   "metadata": {},
   "outputs": [],
   "source": [
    "from keras.models import Sequential\n",
    "from keras.layers import Dense, LSTM, Dropout"
   ]
  },
  {
   "cell_type": "code",
   "execution_count": 56,
   "metadata": {},
   "outputs": [],
   "source": [
    "regressor = Sequential()\n",
    "\n",
    "regressor.add(LSTM(units = 50, return_sequences = True, input_shape = (X_train.shape[1],1)))\n",
    "regressor.add(Dropout(0.2))\n",
    "\n",
    "regressor.add(LSTM(units = 50, return_sequences = True))\n",
    "regressor.add(Dropout(0.2))\n",
    "\n",
    "regressor.add(LSTM(units = 50, return_sequences = True))\n",
    "regressor.add(Dropout(0.2))\n",
    "\n",
    "regressor.add(LSTM(units = 50))\n",
    "regressor.add(Dropout(0.2))\n",
    "\n",
    "regressor.add(Dense(units = 1))"
   ]
  },
  {
   "cell_type": "code",
   "execution_count": 57,
   "metadata": {},
   "outputs": [],
   "source": [
    "regressor.compile(optimizer = 'adam', loss = 'mean_squared_error')"
   ]
  },
  {
   "cell_type": "code",
   "execution_count": 82,
   "metadata": {},
   "outputs": [
    {
     "name": "stdout",
     "output_type": "stream",
     "text": [
      "Epoch 1/100\n",
      "881/881 [==============================] - 4s 5ms/step - loss: 0.0027\n",
      "Epoch 2/100\n",
      "881/881 [==============================] - 4s 5ms/step - loss: 0.0026\n",
      "Epoch 3/100\n",
      "881/881 [==============================] - 4s 5ms/step - loss: 0.0025\n",
      "Epoch 4/100\n",
      "881/881 [==============================] - 4s 5ms/step - loss: 0.0024\n",
      "Epoch 5/100\n",
      "881/881 [==============================] - 4s 5ms/step - loss: 0.0023\n",
      "Epoch 6/100\n",
      "881/881 [==============================] - 4s 5ms/step - loss: 0.0025\n",
      "Epoch 7/100\n",
      "881/881 [==============================] - 4s 5ms/step - loss: 0.0024\n",
      "Epoch 8/100\n",
      "881/881 [==============================] - 4s 5ms/step - loss: 0.0024\n",
      "Epoch 9/100\n",
      "881/881 [==============================] - 4s 5ms/step - loss: 0.0025\n",
      "Epoch 10/100\n",
      "881/881 [==============================] - 5s 5ms/step - loss: 0.0024\n",
      "Epoch 11/100\n",
      "881/881 [==============================] - 4s 5ms/step - loss: 0.0027\n",
      "Epoch 12/100\n",
      "881/881 [==============================] - 7s 8ms/step - loss: 0.0023\n",
      "Epoch 13/100\n",
      "881/881 [==============================] - 5s 6ms/step - loss: 0.0023\n",
      "Epoch 14/100\n",
      "881/881 [==============================] - 4s 5ms/step - loss: 0.0024\n",
      "Epoch 15/100\n",
      "881/881 [==============================] - 4s 5ms/step - loss: 0.0025\n",
      "Epoch 16/100\n",
      "881/881 [==============================] - 4s 5ms/step - loss: 0.0023\n",
      "Epoch 17/100\n",
      "881/881 [==============================] - 5s 5ms/step - loss: 0.0021\n",
      "Epoch 18/100\n",
      "881/881 [==============================] - 4s 5ms/step - loss: 0.0021\n",
      "Epoch 19/100\n",
      "881/881 [==============================] - 4s 5ms/step - loss: 0.0023\n",
      "Epoch 20/100\n",
      "881/881 [==============================] - 4s 5ms/step - loss: 0.0024\n",
      "Epoch 21/100\n",
      "881/881 [==============================] - 4s 5ms/step - loss: 0.0023\n",
      "Epoch 22/100\n",
      "881/881 [==============================] - 4s 5ms/step - loss: 0.0022\n",
      "Epoch 23/100\n",
      "881/881 [==============================] - 4s 5ms/step - loss: 0.0024\n",
      "Epoch 24/100\n",
      "881/881 [==============================] - 4s 5ms/step - loss: 0.0022\n",
      "Epoch 25/100\n",
      "881/881 [==============================] - 7s 8ms/step - loss: 0.0022\n",
      "Epoch 26/100\n",
      "881/881 [==============================] - 5s 6ms/step - loss: 0.0022\n",
      "Epoch 27/100\n",
      "881/881 [==============================] - 5s 5ms/step - loss: 0.0021\n",
      "Epoch 28/100\n",
      "881/881 [==============================] - 4s 5ms/step - loss: 0.0023\n",
      "Epoch 29/100\n",
      "881/881 [==============================] - 4s 5ms/step - loss: 0.0024\n",
      "Epoch 30/100\n",
      "881/881 [==============================] - 4s 5ms/step - loss: 0.0022\n",
      "Epoch 31/100\n",
      "881/881 [==============================] - 4s 5ms/step - loss: 0.0022\n",
      "Epoch 32/100\n",
      "881/881 [==============================] - 4s 5ms/step - loss: 0.0020\n",
      "Epoch 33/100\n",
      "881/881 [==============================] - 4s 5ms/step - loss: 0.0026\n",
      "Epoch 34/100\n",
      "881/881 [==============================] - 4s 5ms/step - loss: 0.0023\n",
      "Epoch 35/100\n",
      "881/881 [==============================] - 4s 5ms/step - loss: 0.0022\n",
      "Epoch 36/100\n",
      "881/881 [==============================] - 4s 5ms/step - loss: 0.0021\n",
      "Epoch 37/100\n",
      "881/881 [==============================] - 4s 5ms/step - loss: 0.0024\n",
      "Epoch 38/100\n",
      "881/881 [==============================] - 7s 8ms/step - loss: 0.0024\n",
      "Epoch 39/100\n",
      "881/881 [==============================] - 5s 6ms/step - loss: 0.0021\n",
      "Epoch 40/100\n",
      "881/881 [==============================] - 4s 5ms/step - loss: 0.0021\n",
      "Epoch 41/100\n",
      "881/881 [==============================] - 5s 5ms/step - loss: 0.0022\n",
      "Epoch 42/100\n",
      "881/881 [==============================] - 4s 5ms/step - loss: 0.0021\n",
      "Epoch 43/100\n",
      "881/881 [==============================] - 4s 5ms/step - loss: 0.0025\n",
      "Epoch 44/100\n",
      "881/881 [==============================] - 4s 5ms/step - loss: 0.0023\n",
      "Epoch 45/100\n",
      "881/881 [==============================] - 4s 5ms/step - loss: 0.0025\n",
      "Epoch 46/100\n",
      "881/881 [==============================] - 4s 5ms/step - loss: 0.0022\n",
      "Epoch 47/100\n",
      "881/881 [==============================] - 4s 5ms/step - loss: 0.0020\n",
      "Epoch 48/100\n",
      "881/881 [==============================] - 4s 5ms/step - loss: 0.0021\n",
      "Epoch 49/100\n",
      "881/881 [==============================] - 5s 5ms/step - loss: 0.0023\n",
      "Epoch 50/100\n",
      "881/881 [==============================] - 5s 5ms/step - loss: 0.0023\n",
      "Epoch 51/100\n",
      "881/881 [==============================] - 7s 8ms/step - loss: 0.0019\n",
      "Epoch 52/100\n",
      "881/881 [==============================] - 4s 5ms/step - loss: 0.0021\n",
      "Epoch 53/100\n",
      "881/881 [==============================] - 5s 6ms/step - loss: 0.0020\n",
      "Epoch 54/100\n",
      "881/881 [==============================] - 5s 6ms/step - loss: 0.0022\n",
      "Epoch 55/100\n",
      "881/881 [==============================] - 5s 6ms/step - loss: 0.0021\n",
      "Epoch 56/100\n",
      "881/881 [==============================] - 5s 5ms/step - loss: 0.0019\n",
      "Epoch 57/100\n",
      "881/881 [==============================] - 5s 5ms/step - loss: 0.0020\n",
      "Epoch 58/100\n",
      "881/881 [==============================] - 4s 5ms/step - loss: 0.0020\n",
      "Epoch 59/100\n",
      "881/881 [==============================] - 5s 5ms/step - loss: 0.0021\n",
      "Epoch 60/100\n",
      "881/881 [==============================] - 4s 5ms/step - loss: 0.0019\n",
      "Epoch 61/100\n",
      "881/881 [==============================] - 4s 5ms/step - loss: 0.0021\n",
      "Epoch 62/100\n",
      "881/881 [==============================] - 5s 5ms/step - loss: 0.0020\n",
      "Epoch 63/100\n",
      "881/881 [==============================] - 7s 8ms/step - loss: 0.0021\n",
      "Epoch 64/100\n",
      "881/881 [==============================] - 5s 6ms/step - loss: 0.0021\n",
      "Epoch 65/100\n",
      "881/881 [==============================] - 5s 5ms/step - loss: 0.0021\n",
      "Epoch 66/100\n",
      "881/881 [==============================] - 5s 5ms/step - loss: 0.0019\n",
      "Epoch 67/100\n",
      "881/881 [==============================] - 5s 5ms/step - loss: 0.0020\n",
      "Epoch 68/100\n",
      "881/881 [==============================] - 5s 6ms/step - loss: 0.0021\n",
      "Epoch 69/100\n",
      "881/881 [==============================] - 5s 5ms/step - loss: 0.0020\n",
      "Epoch 70/100\n",
      "881/881 [==============================] - 5s 5ms/step - loss: 0.0022\n",
      "Epoch 71/100\n",
      "881/881 [==============================] - 5s 5ms/step - loss: 0.0019\n",
      "Epoch 72/100\n",
      "881/881 [==============================] - 5s 5ms/step - loss: 0.0021\n",
      "Epoch 73/100\n",
      "881/881 [==============================] - 5s 5ms/step - loss: 0.0020\n",
      "Epoch 74/100\n",
      "881/881 [==============================] - 5s 5ms/step - loss: 0.0020\n",
      "Epoch 75/100\n",
      "881/881 [==============================] - 5s 5ms/step - loss: 0.0019\n",
      "Epoch 76/100\n",
      "881/881 [==============================] - 7s 8ms/step - loss: 0.0020\n",
      "Epoch 77/100\n",
      "881/881 [==============================] - 5s 5ms/step - loss: 0.0019\n",
      "Epoch 78/100\n",
      "881/881 [==============================] - 5s 5ms/step - loss: 0.0021\n",
      "Epoch 79/100\n",
      "881/881 [==============================] - 5s 6ms/step - loss: 0.0019\n",
      "Epoch 80/100\n",
      "881/881 [==============================] - 5s 5ms/step - loss: 0.0020\n",
      "Epoch 81/100\n",
      "881/881 [==============================] - 5s 5ms/step - loss: 0.0019\n",
      "Epoch 82/100\n",
      "881/881 [==============================] - 5s 5ms/step - loss: 0.0020\n",
      "Epoch 83/100\n",
      "881/881 [==============================] - 5s 6ms/step - loss: 0.0020A: \n",
      "Epoch 84/100\n",
      "881/881 [==============================] - 5s 5ms/step - loss: 0.0018\n",
      "Epoch 85/100\n",
      "881/881 [==============================] - 5s 5ms/step - loss: 0.0022\n",
      "Epoch 86/100\n",
      "881/881 [==============================] - 5s 5ms/step - loss: 0.0018\n",
      "Epoch 87/100\n",
      "881/881 [==============================] - 5s 5ms/step - loss: 0.0020\n",
      "Epoch 88/100\n",
      "881/881 [==============================] - 8s 9ms/step - loss: 0.0018\n",
      "Epoch 89/100\n",
      "881/881 [==============================] - 5s 5ms/step - loss: 0.0021\n",
      "Epoch 90/100\n",
      "881/881 [==============================] - 5s 5ms/step - loss: 0.0019\n",
      "Epoch 91/100\n",
      "881/881 [==============================] - 5s 5ms/step - loss: 0.0019\n",
      "Epoch 92/100\n",
      "881/881 [==============================] - 5s 6ms/step - loss: 0.0022\n",
      "Epoch 93/100\n",
      "881/881 [==============================] - 5s 6ms/step - loss: 0.0018\n",
      "Epoch 94/100\n",
      "881/881 [==============================] - 5s 5ms/step - loss: 0.0019\n",
      "Epoch 95/100\n",
      "881/881 [==============================] - 5s 5ms/step - loss: 0.0021A: 0s - loss: 0.002\n",
      "Epoch 96/100\n",
      "881/881 [==============================] - 5s 5ms/step - loss: 0.0018\n",
      "Epoch 97/100\n",
      "881/881 [==============================] - 5s 6ms/step - loss: 0.0020\n",
      "Epoch 98/100\n",
      "881/881 [==============================] - 5s 6ms/step - loss: 0.0020\n",
      "Epoch 99/100\n"
     ]
    },
    {
     "name": "stdout",
     "output_type": "stream",
     "text": [
      "881/881 [==============================] - 5s 5ms/step - loss: 0.0020\n",
      "Epoch 100/100\n",
      "881/881 [==============================] - 8s 9ms/step - loss: 0.0022\n"
     ]
    },
    {
     "data": {
      "text/plain": [
       "<keras.callbacks.callbacks.History at 0x165671b8f98>"
      ]
     },
     "execution_count": 82,
     "metadata": {},
     "output_type": "execute_result"
    }
   ],
   "source": [
    "regressor.fit(X_train,y_train, epochs = 100, batch_size = 32)"
   ]
  },
  {
   "cell_type": "code",
   "execution_count": 83,
   "metadata": {},
   "outputs": [],
   "source": [
    "inputs = data_set[len(data_set) - len(test_set) - 60:].values\n",
    "inputs = inputs.reshape(-1,1)\n",
    "inputs = sc.transform(inputs)"
   ]
  },
  {
   "cell_type": "code",
   "execution_count": 84,
   "metadata": {},
   "outputs": [],
   "source": [
    "X_test = []\n",
    "for i in range(60,80):\n",
    "    X_test.append(inputs[i-60:i,0])\n",
    "X_test = np.array(X_test)"
   ]
  },
  {
   "cell_type": "code",
   "execution_count": 85,
   "metadata": {},
   "outputs": [],
   "source": [
    "X_test = np.reshape(X_test, (X_test.shape[0], X_test.shape[1], 1))"
   ]
  },
  {
   "cell_type": "code",
   "execution_count": 86,
   "metadata": {},
   "outputs": [],
   "source": [
    "predicted_stock_price = regressor.predict(X_test)\n",
    "predicted_stock_price = sc.inverse_transform(predicted_stock_price)"
   ]
  },
  {
   "cell_type": "code",
   "execution_count": 87,
   "metadata": {},
   "outputs": [
    {
     "data": {
      "image/png": "[encoded data removed]",
      "text/plain": [
       "<Figure size 432x288 with 1 Axes>"
      ]
     },
     "metadata": {
      "needs_background": "light"
     },
     "output_type": "display_data"
    }
   ],
   "source": [
    "#visualising the result\n",
    "plt.plot(test_set, color = 'red', label = \"Real stock price\")\n",
    "plt.plot(predicted_stock_price, color = \"blue\", label = \"Predicted stock price\")\n",
    "plt.title(\"Stock Price Prediction\")\n",
    "plt.xlabel(\"Time\")\n",
    "plt.ylabel(\"Stock Price\")\n",
    "plt.legend()\n",
    "plt.show()"
   ]
  },
  {
   "cell_type": "code",
   "execution_count": null,
   "metadata": {},
   "outputs": [],
   "source": []
  }
 ],
 "metadata": {
  "kernelspec": {
   "display_name": "Python 3",
   "language": "python",
   "name": "python3"
  },
  "language_info": {
   "codemirror_mode": {
    "name": "ipython",
    "version": 3
   },
   "file_extension": ".py",
   "mimetype": "text/x-python",
   "name": "python",
   "nbconvert_exporter": "python",
   "pygments_lexer": "ipython3",
   "version": "3.7.3"
  }
 },
 "nbformat": 4,
 "nbformat_minor": 2
}
